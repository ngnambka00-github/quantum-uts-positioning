{
 "cells": [
  {
   "cell_type": "code",
   "execution_count": 1,
   "metadata": {},
   "outputs": [],
   "source": [
    "import pandas as pd\n",
    "import os\n",
    "from hydra import initialize, compose\n",
    "from omegaconf import OmegaConf\n",
    "\n",
    "from deep_model import UTSDataset\n",
    "from sklearn.decomposition import KernelPCA\n",
    "from sklearn.preprocessing import StandardScaler\n",
    "\n",
    "from torch.utils.data import DataLoader\n",
    "import torch\n",
    "\n",
    "from utils import normalize_data, separate_data\n",
    "from quantum_model import QuantumCircuit\n",
    "from deep_model import MeanSquareError, Net, train_model_deep"
   ]
  },
  {
   "cell_type": "code",
   "execution_count": 2,
   "metadata": {},
   "outputs": [
    {
     "name": "stderr",
     "output_type": "stream",
     "text": [
      "/tmp/ipykernel_43530/4189321069.py:2: UserWarning: \n",
      "The version_base parameter is not specified.\n",
      "Please specify a compatability version level, or None.\n",
      "Will assume defaults for version 1.1\n",
      "  with initialize(config_path=\"../configs/\"):\n"
     ]
    }
   ],
   "source": [
    "HOME_PATH = \"../\"\n",
    "with initialize(config_path=\"../configs/\"):\n",
    "    data_cfg = compose(config_name=\"data_path\")\n",
    "data_cfg = OmegaConf.create(data_cfg)"
   ]
  },
  {
   "cell_type": "code",
   "execution_count": 3,
   "metadata": {},
   "outputs": [],
   "source": [
    "filter_uts_training_path = os.path.join(HOME_PATH, data_cfg.UTS_data.processed_data.filter_train)\n",
    "filter_uts_testing_path = os.path.join(HOME_PATH, data_cfg.UTS_data.processed_data.filter_test)\n",
    "\n",
    "save_model_path = os.path.join(HOME_PATH, data_cfg.model_train.best_model_state)"
   ]
  },
  {
   "cell_type": "code",
   "execution_count": 4,
   "metadata": {},
   "outputs": [],
   "source": [
    "data_train = pd.read_csv(filter_uts_training_path).drop(columns=[\"Time\"])\n",
    "data_test = pd.read_csv(filter_uts_testing_path).drop(columns=[\"Time\"])"
   ]
  },
  {
   "cell_type": "code",
   "execution_count": 5,
   "metadata": {},
   "outputs": [
    {
     "data": {
      "text/plain": [
       "((9108, 64), (388, 64))"
      ]
     },
     "execution_count": 5,
     "metadata": {},
     "output_type": "execute_result"
    }
   ],
   "source": [
    "# normalize data from dataframe\n",
    "uts_filter_train_data = normalize_data(data_train)\n",
    "uts_filter_test_data = normalize_data(data_test)\n",
    "\n",
    "# separate data from dataframe\n",
    "X_train, y_train = separate_data(uts_filter_train_data)\n",
    "X_test, y_test = separate_data(uts_filter_test_data)\n",
    "\n",
    "# standard data\n",
    "scl = StandardScaler()\n",
    "X_train_scaled = scl.fit_transform(X_train)\n",
    "X_test_scaled = scl.transform(X_test)\n",
    "\n",
    "# transformer PCA\n",
    "transformer = KernelPCA(n_components=64, kernel=\"cosine\", random_state=100)\n",
    "# transformer = PCA(n_components=0.91, random_state=100)\n",
    "X_train_transformed = transformer.fit_transform(X_train_scaled)\n",
    "X_test_transformed = transformer.transform(X_test_scaled)\n",
    "\n",
    "X_train_transformed.shape, X_test_transformed.shape"
   ]
  },
  {
   "cell_type": "code",
   "execution_count": null,
   "metadata": {},
   "outputs": [],
   "source": [
    "datasets = {\n",
    "    \"train\": UTSDataset(X_train_transformed, y_train),\n",
    "    \"val\": UTSDataset(X_test_transformed, y_test)\n",
    "}\n",
    "\n",
    "dataloaders = {\n",
    "    \"train\": DataLoader(datasets[\"train\"], batch_size=16, shuffle=True, num_workers=os.cpu_count()),\n",
    "    \"val\": DataLoader(datasets[\"val\"], batch_size=1, shuffle=True, num_workers=os.cpu_count())\n",
    "}\n",
    "\n",
    "dataset_sizes = {\n",
    "    \"train\": len(datasets[\"train\"]), \n",
    "    \"val\": len(datasets[\"val\"])\n",
    "}"
   ]
  },
  {
   "cell_type": "code",
   "execution_count": null,
   "metadata": {},
   "outputs": [],
   "source": [
    "# Display image and label.\n",
    "train_features, train_labels = next(iter(dataloaders[\"train\"]))\n",
    "test_features, test_labels = next(iter(dataloaders[\"val\"]))\n",
    "\n",
    "print(f\"Feature batch shape: {train_features.size()}\")\n",
    "print(f\"Labels batch shape: {train_labels.size()}\")"
   ]
  },
  {
   "cell_type": "code",
   "execution_count": null,
   "metadata": {},
   "outputs": [],
   "source": [
    "import qiskit\n",
    "import torch\n",
    "simulator = qiskit.Aer.get_backend('aer_simulator')\n",
    "circuit = QuantumCircuit(1, simulator, 512, is_add_noise=True)\n",
    "print('Expected value for rotation pi {}'.format(circuit.forward(torch.rand(9))))\n",
    "circuit.circuit.draw('mpl')\n",
    "# circuit.plot(torch.rand(9))"
   ]
  },
  {
   "cell_type": "code",
   "execution_count": null,
   "metadata": {},
   "outputs": [],
   "source": [
    "model = Net(quantum=True)\n",
    "# model.load_state_dict(torch.load(save_model_path))\n",
    "\n",
    "# optimizer = torch.optim.SGD(model.parameters(), lr=0.004, momentum=0.9, nesterov=True)\n",
    "optimizer = torch.optim.Adam(model.parameters(), lr=0.004, weight_decay=0.001)\n",
    "\n",
    "decayRate = 0.96\n",
    "my_lr_scheduler = torch.optim.lr_scheduler.ExponentialLR(optimizer=optimizer, gamma=decayRate)\n",
    "\n",
    "loss_func = MeanSquareError()"
   ]
  },
  {
   "cell_type": "code",
   "execution_count": null,
   "metadata": {},
   "outputs": [],
   "source": [
    "train_model_deep(model, loss_func, optimizer, dataloaders, dataset_sizes, save_model_path, num_epochs=50)"
   ]
  }
 ],
 "metadata": {
  "kernelspec": {
   "display_name": "Python 3.8.13 ('tf-gpu')",
   "language": "python",
   "name": "python3"
  },
  "language_info": {
   "codemirror_mode": {
    "name": "ipython",
    "version": 3
   },
   "file_extension": ".py",
   "mimetype": "text/x-python",
   "name": "python",
   "nbconvert_exporter": "python",
   "pygments_lexer": "ipython3",
   "version": "3.8.13"
  },
  "orig_nbformat": 4,
  "vscode": {
   "interpreter": {
    "hash": "2332e2f7379f093a907912e146c738b6b17d0e5f68fabe19873a9ce22bc37123"
   }
  }
 },
 "nbformat": 4,
 "nbformat_minor": 2
}
